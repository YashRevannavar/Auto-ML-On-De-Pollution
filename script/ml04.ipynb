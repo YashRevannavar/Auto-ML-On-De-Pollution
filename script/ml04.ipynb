{
 "cells": [
  {
   "cell_type": "markdown",
   "metadata": {},
   "source": [
    "# [Multivariate time series forecasting using LSTM](https://github.com/bnsreenu/python_for_microscopists/blob/master/181_multivariate_timeseries_LSTM_GE.py) "
   ]
  },
  {
   "cell_type": "code",
   "execution_count": 189,
   "metadata": {},
   "outputs": [],
   "source": [
    "%reset -f\n",
    "from pprint import pprint\n",
    "import numpy as np\n",
    "from tensorflow.keras.models import Sequential\n",
    "from tensorflow.keras.layers import LSTM\n",
    "from tensorflow.keras.layers import Dense, Dropout\n",
    "import pandas as pd\n",
    "from matplotlib import pyplot as plt\n",
    "from sklearn.preprocessing import StandardScaler "
   ]
  },
  {
   "cell_type": "markdown",
   "metadata": {},
   "source": [
    "## Functions"
   ]
  },
  {
   "cell_type": "code",
   "execution_count": 190,
   "metadata": {},
   "outputs": [],
   "source": [
    "def lstmMultiSplit(df, n_past, n_future):\n",
    "    \"\"\"\n",
    "    Split the data into training x and y sets.\n",
    "    **Note: The 1st column of the df should be the label column and other columns should be features.**\n",
    "    :param df: dataframe\n",
    "    :param n_past: number of past days we want to use to predict the future\n",
    "    :param n_future: number of days we want to look into the future based on the past days\n",
    "    :return: trainX and trainX train sets\n",
    "    \"\"\"\n",
    "    trainX = []\n",
    "    trainY = []\n",
    "\n",
    "    # n_future = 1   # Number of days we want to look into the future based on the past days.\n",
    "    # n_past = 5\n",
    "    \n",
    "    for i in range(n_past, len(df) - n_future +1):\n",
    "        trainX.append(df[i - n_past:i, 0:df.shape[1]])\n",
    "        trainY.append(df[i + n_future - 1:i + n_future, 0])\n",
    "    trainX, trainY = np.array(trainX), np.array(trainY)\n",
    "    return trainX, trainY"
   ]
  },
  {
   "cell_type": "markdown",
   "metadata": {},
   "source": [
    "## To-Do\n",
    "- split date and time in feature.\n",
    "- scale\n",
    "- create a LSTM dataset\n",
    "- train, fit , predict."
   ]
  },
  {
   "cell_type": "markdown",
   "metadata": {},
   "source": [
    "## Data pre-processing."
   ]
  },
  {
   "cell_type": "code",
   "execution_count": 197,
   "metadata": {},
   "outputs": [
    {
     "name": "stderr",
     "output_type": "stream",
     "text": [
      "/home/cluster_home/yash/workspace/AutoMLRepo/Auto-ML-On-De-Pollution/autoMLVenv/lib64/python3.6/site-packages/ipykernel_launcher.py:8: FutureWarning: Series.dt.weekofyear and Series.dt.week have been deprecated.  Please use Series.dt.isocalendar().week instead.\n",
      "  \n"
     ]
    }
   ],
   "source": [
    "df = pd.read_csv(\"../Data/cleanned/zusammen.csv\", parse_dates=[\"date\"])\n",
    "df['dayofyear'] = df['date'].dt.dayofyear\n",
    "df['month'] = df['date'].dt.month\n",
    "df['year'] = df['date'].dt.year\n",
    "df['weekday'] = df['date'].dt.weekday\n",
    "df['hour'] = df['date'].dt.hour\n",
    "df['day'] = df['date'].dt.day\n",
    "df['week'] = df['date'].dt.week\n",
    "df.drop(columns=['date','rohwert'], inplace= True)\n",
    "# Conclude with 11 features, 1 label.\n",
    "df = df[[ 'wert', 'day', 'month', 'dayofyear', 'year', 'weekday', 'week', 'hour','temp', 'dwpt', 'rhum', 'prcp']]\n",
    "df.dropna(inplace=True)\n",
    "df.reset_index(inplace=True)"
   ]
  },
  {
   "cell_type": "code",
   "execution_count": 199,
   "metadata": {},
   "outputs": [],
   "source": [
    "train = df[:23000]\n",
    "test = df[23000:] "
   ]
  },
  {
   "cell_type": "code",
   "execution_count": 200,
   "metadata": {},
   "outputs": [
    {
     "data": {
      "text/plain": [
       "(736, 13)"
      ]
     },
     "execution_count": 200,
     "metadata": {},
     "output_type": "execute_result"
    }
   ],
   "source": [
    "test.shape"
   ]
  },
  {
   "cell_type": "markdown",
   "metadata": {},
   "source": [
    "## Train Test Split"
   ]
  },
  {
   "cell_type": "markdown",
   "metadata": {},
   "source": [
    "## Scale the Training dataset "
   ]
  },
  {
   "cell_type": "code",
   "execution_count": 201,
   "metadata": {},
   "outputs": [],
   "source": [
    "scaler = StandardScaler()\n",
    "scaler = scaler.fit(train)\n",
    "scaledDf = scaler.transform(train)"
   ]
  },
  {
   "cell_type": "code",
   "execution_count": 203,
   "metadata": {},
   "outputs": [],
   "source": [
    "scaler = scaler.fit(test)\n",
    "scaledTest = scaler.transform(test)"
   ]
  },
  {
   "cell_type": "code",
   "execution_count": 184,
   "metadata": {},
   "outputs": [
    {
     "name": "stdout",
     "output_type": "stream",
     "text": [
      "   wert  day  month  dayofyear  year  weekday  week  hour  temp  dwpt  rhum  \\\n",
      "0    36    2      1          2  2020        3     1     0   1.0  -0.6  89.0   \n",
      "\n",
      "   prcp  \n",
      "0   0.0  \n",
      "array([[ 1.68034701, -1.56167389, -1.5496555 , -1.67109316, -1.15936934,\n",
      "        -0.00311587, -1.65408911, -1.65843036, -1.56628065, -1.38562979,\n",
      "         0.79278615, -0.15428548]])\n",
      "array([ 3.60e+01,  2.00e+00,  1.00e+00,  2.00e+00,  2.02e+03,  3.00e+00,\n",
      "        1.00e+00,  0.00e+00,  1.00e+00, -6.00e-01,  8.90e+01,  0.00e+00])\n"
     ]
    }
   ],
   "source": [
    "# Verifying the data\n",
    "pprint(df[0:1])\n",
    "pprint(scaledDf[0:1])\n",
    "pprint(scaler.inverse_transform(scaledDf[0]))"
   ]
  },
  {
   "cell_type": "code",
   "execution_count": 202,
   "metadata": {},
   "outputs": [],
   "source": [
    "trainX, trainY = lstmMultiSplit(df=scaledDf, n_past=5, n_future=1)"
   ]
  },
  {
   "cell_type": "code",
   "execution_count": 208,
   "metadata": {},
   "outputs": [],
   "source": [
    "testX, testY = lstmMultiSplit(df=scaledTest, n_past=5, n_future=1)"
   ]
  },
  {
   "cell_type": "markdown",
   "metadata": {},
   "source": [
    "## Model"
   ]
  },
  {
   "cell_type": "code",
   "execution_count": 205,
   "metadata": {},
   "outputs": [
    {
     "name": "stdout",
     "output_type": "stream",
     "text": [
      "Epoch 1/5\n",
      "1479/1479 [==============================] - 14s 8ms/step - loss: 0.0369 - val_loss: 0.0036\n",
      "Epoch 2/5\n",
      "1479/1479 [==============================] - 12s 8ms/step - loss: 0.0197 - val_loss: 0.0254\n",
      "Epoch 3/5\n",
      "1479/1479 [==============================] - 13s 9ms/step - loss: 0.0190 - val_loss: 0.0056\n",
      "Epoch 4/5\n",
      "1479/1479 [==============================] - 13s 9ms/step - loss: 0.0190 - val_loss: 0.0456\n",
      "Epoch 5/5\n",
      "1479/1479 [==============================] - 12s 8ms/step - loss: 0.0188 - val_loss: 0.0262\n"
     ]
    }
   ],
   "source": [
    "model = Sequential()\n",
    "model.add(LSTM(128, activation='relu', input_shape=(trainX.shape[1], trainX.shape[2]), return_sequences=True))\n",
    "model.add(LSTM(64, activation='relu', return_sequences=True))\n",
    "model.add(LSTM(32, activation='relu', return_sequences=False))\n",
    "model.add(Dropout(0.2))\n",
    "model.add(Dense(trainY.shape[1]))\n",
    "\n",
    "model.compile(optimizer='adam', loss='mean_squared_error')\n",
    "# model.summary()\n",
    "\n",
    "history = model.fit(trainX, trainY, epochs=5, batch_size=14, validation_split=0.1, verbose=1)"
   ]
  },
  {
   "cell_type": "code",
   "execution_count": 206,
   "metadata": {},
   "outputs": [
    {
     "data": {
      "text/plain": [
       "<matplotlib.legend.Legend at 0x7fb4482cfc88>"
      ]
     },
     "execution_count": 206,
     "metadata": {},
     "output_type": "execute_result"
    },
    {
     "data": {
      "image/png": "[encoded data removed]",
      "text/plain": [
       "<Figure size 432x288 with 1 Axes>"
      ]
     },
     "metadata": {
      "needs_background": "light"
     },
     "output_type": "display_data"
    }
   ],
   "source": [
    "plt.plot(history.history['loss'], label='Training loss')\n",
    "plt.plot(history.history['val_loss'], label='Validation loss')\n",
    "plt.legend()"
   ]
  },
  {
   "cell_type": "code",
   "execution_count": 179,
   "metadata": {},
   "outputs": [
    {
     "data": {
      "text/plain": [
       "<matplotlib.legend.Legend at 0x7fb4087a8f28>"
      ]
     },
     "execution_count": 179,
     "metadata": {},
     "output_type": "execute_result"
    },
    {
     "data": {
      "image/png": "[encoded data removed]",
      "text/plain": [
       "<Figure size 432x288 with 1 Axes>"
      ]
     },
     "metadata": {
      "needs_background": "light"
     },
     "output_type": "display_data"
    }
   ],
   "source": [
    "# plt.plot(history.history['loss'], label='Training loss')\n",
    "# plt.plot(history.history['val_loss'], label='Validation loss')\n",
    "# plt.legend()"
   ]
  },
  {
   "cell_type": "code",
   "execution_count": 209,
   "metadata": {},
   "outputs": [],
   "source": [
    "prediction = model.predict(testX)"
   ]
  },
  {
   "cell_type": "code",
   "execution_count": null,
   "metadata": {},
   "outputs": [
    {
     "data": {
      "text/plain": [
       "array([], shape=(0, 13), dtype=float32)"
      ]
     },
     "execution_count": 219,
     "metadata": {},
     "output_type": "execute_result"
    }
   ],
   "source": [
    "prediction = np.repeat(prediction, 13, axis=-1)\n",
    "\n",
    "# realPrediction = scaler.inverse_transform(prediction)\n",
    "# readlTestY = scaler.inverse_transform(testY)\n",
    "realPrediction[:,0]"
   ]
  },
  {
   "cell_type": "code",
   "execution_count": 213,
   "metadata": {},
   "outputs": [
    {
     "data": {
      "image/png": "[encoded data removed]",
      "text/plain": [
       "<Figure size 432x288 with 1 Axes>"
      ]
     },
     "metadata": {
      "needs_background": "light"
     },
     "output_type": "display_data"
    }
   ],
   "source": [
    "plt.plot(prediction, label='prediction')\n",
    "# plt.plot(testY, label='y_test')\n",
    "plt.show()"
   ]
  },
  {
   "cell_type": "code",
   "execution_count": 214,
   "metadata": {},
   "outputs": [
    {
     "data": {
      "image/png": "[encoded data removed]",
      "text/plain": [
       "<Figure size 432x288 with 1 Axes>"
      ]
     },
     "metadata": {
      "needs_background": "light"
     },
     "output_type": "display_data"
    }
   ],
   "source": [
    "plt.plot(realPrediction,label='real-prediction')\n",
    "# plt.plot(readlTestY,label='real-testY')\n",
    "plt.led\n",
    "plt.show()"
   ]
  },
  {
   "cell_type": "code",
   "execution_count": null,
   "metadata": {},
   "outputs": [],
   "source": []
  }
 ],
 "metadata": {
  "kernelspec": {
   "display_name": "autoMLVenv",
   "language": "python",
   "name": "python3"
  },
  "language_info": {
   "codemirror_mode": {
    "name": "ipython",
    "version": 3
   },
   "file_extension": ".py",
   "mimetype": "text/x-python",
   "name": "python",
   "nbconvert_exporter": "python",
   "pygments_lexer": "ipython3",
   "version": "3.6.8"
  },
  "orig_nbformat": 4
 },
 "nbformat": 4,
 "nbformat_minor": 2
}
