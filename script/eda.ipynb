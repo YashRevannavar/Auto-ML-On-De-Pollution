{
 "cells": [
  {
   "cell_type": "code",
   "execution_count": 1,
   "metadata": {},
   "outputs": [],
   "source": [
    "# %reset -f\n",
    "from pprint import pprint\n",
    "import numpy as np\n",
    "from tensorflow.keras.models import Sequential\n",
    "from tensorflow.keras.layers import LSTM\n",
    "from tensorflow.keras.layers import Dense, Dropout\n",
    "import pandas as pd\n",
    "from matplotlib import pyplot as plt\n",
    "from sklearn.preprocessing import StandardScaler \n",
    "import plotly.express as ex"
   ]
  },
  {
   "cell_type": "code",
   "execution_count": 2,
   "metadata": {},
   "outputs": [],
   "source": [
    "def lstmMultiSplit(df, n_past, n_future):\n",
    "    \"\"\"\n",
    "    Split the data into training x and y sets.\n",
    "    **Note: The 1st column of the df should be the label column and other columns should be features.**\n",
    "    :param df: dataframe\n",
    "    :param n_past: number of past days we want to use to predict the future\n",
    "    :param n_future: number of days we want to look into the future based on the past days\n",
    "    :return: trainX and trainX train sets\n",
    "    \"\"\"\n",
    "    trainX = []\n",
    "    trainY = []\n",
    "\n",
    "    # n_future = 1   # Number of days we want to look into the future based on the past days.\n",
    "    # n_past = 5\n",
    "    \n",
    "    for i in range(n_past, len(df) - n_future +1):\n",
    "        trainX.append(df[i - n_past:i, 0:df.shape[1]])\n",
    "        trainY.append(df[i + n_future - 1:i + n_future, 0])\n",
    "    trainX, trainY = np.array(trainX), np.array(trainY)\n",
    "    return trainX, trainY"
   ]
  },
  {
   "cell_type": "code",
   "execution_count": 24,
   "metadata": {},
   "outputs": [
    {
     "name": "stderr",
     "output_type": "stream",
     "text": [
      "/home/cluster_home/gavali/workspace/AutoML/amlvenv/lib64/python3.6/site-packages/ipykernel_launcher.py:8: FutureWarning:\n",
      "\n",
      "Series.dt.weekofyear and Series.dt.week have been deprecated.  Please use Series.dt.isocalendar().week instead.\n",
      "\n"
     ]
    }
   ],
   "source": [
    "df = pd.read_csv(\"zusammen.csv\", parse_dates=[\"date\"])\n",
    "df['dayofyear'] = df['date'].dt.dayofyear\n",
    "df['month'] = df['date'].dt.month\n",
    "df['year'] = df['date'].dt.year\n",
    "df['weekday'] = df['date'].dt.weekday\n",
    "df['hour'] = df['date'].dt.hour\n",
    "df['day'] = df['date'].dt.day\n",
    "df['week'] = df['date'].dt.week\n",
    "df.drop(columns=['date','rohwert'], inplace= True)\n",
    "# Conclude with 11 features, 1 label.\n",
    "df = df[[ 'wert', 'day', 'month', 'dayofyear', 'year', 'weekday', 'week', 'hour','temp', 'dwpt', 'rhum', 'prcp']]\n",
    "df.dropna(inplace=True)\n",
    "df.reset_index(inplace=True, drop=True)"
   ]
  },
  {
   "cell_type": "code",
   "execution_count": 25,
   "metadata": {},
   "outputs": [
    {
     "data": {
      "text/html": [
       "<div>\n",
       "<style scoped>\n",
       "    .dataframe tbody tr th:only-of-type {\n",
       "        vertical-align: middle;\n",
       "    }\n",
       "\n",
       "    .dataframe tbody tr th {\n",
       "        vertical-align: top;\n",
       "    }\n",
       "\n",
       "    .dataframe thead th {\n",
       "        text-align: right;\n",
       "    }\n",
       "</style>\n",
       "<table border=\"1\" class=\"dataframe\">\n",
       "  <thead>\n",
       "    <tr style=\"text-align: right;\">\n",
       "      <th></th>\n",
       "      <th>wert</th>\n",
       "      <th>day</th>\n",
       "      <th>month</th>\n",
       "      <th>dayofyear</th>\n",
       "      <th>year</th>\n",
       "      <th>weekday</th>\n",
       "      <th>week</th>\n",
       "      <th>hour</th>\n",
       "      <th>temp</th>\n",
       "      <th>dwpt</th>\n",
       "      <th>rhum</th>\n",
       "      <th>prcp</th>\n",
       "    </tr>\n",
       "  </thead>\n",
       "  <tbody>\n",
       "    <tr>\n",
       "      <th>0</th>\n",
       "      <td>36</td>\n",
       "      <td>2</td>\n",
       "      <td>1</td>\n",
       "      <td>2</td>\n",
       "      <td>2020</td>\n",
       "      <td>3</td>\n",
       "      <td>1</td>\n",
       "      <td>0</td>\n",
       "      <td>1.0</td>\n",
       "      <td>-0.6</td>\n",
       "      <td>89.0</td>\n",
       "      <td>0.0</td>\n",
       "    </tr>\n",
       "    <tr>\n",
       "      <th>1</th>\n",
       "      <td>31</td>\n",
       "      <td>2</td>\n",
       "      <td>1</td>\n",
       "      <td>2</td>\n",
       "      <td>2020</td>\n",
       "      <td>3</td>\n",
       "      <td>1</td>\n",
       "      <td>7</td>\n",
       "      <td>0.1</td>\n",
       "      <td>-1.2</td>\n",
       "      <td>91.0</td>\n",
       "      <td>0.0</td>\n",
       "    </tr>\n",
       "    <tr>\n",
       "      <th>2</th>\n",
       "      <td>32</td>\n",
       "      <td>2</td>\n",
       "      <td>1</td>\n",
       "      <td>2</td>\n",
       "      <td>2020</td>\n",
       "      <td>3</td>\n",
       "      <td>1</td>\n",
       "      <td>6</td>\n",
       "      <td>-0.3</td>\n",
       "      <td>-1.3</td>\n",
       "      <td>93.0</td>\n",
       "      <td>0.0</td>\n",
       "    </tr>\n",
       "    <tr>\n",
       "      <th>3</th>\n",
       "      <td>27</td>\n",
       "      <td>2</td>\n",
       "      <td>1</td>\n",
       "      <td>2</td>\n",
       "      <td>2020</td>\n",
       "      <td>3</td>\n",
       "      <td>1</td>\n",
       "      <td>5</td>\n",
       "      <td>-0.5</td>\n",
       "      <td>-1.2</td>\n",
       "      <td>95.0</td>\n",
       "      <td>0.0</td>\n",
       "    </tr>\n",
       "    <tr>\n",
       "      <th>4</th>\n",
       "      <td>38</td>\n",
       "      <td>2</td>\n",
       "      <td>1</td>\n",
       "      <td>2</td>\n",
       "      <td>2020</td>\n",
       "      <td>3</td>\n",
       "      <td>1</td>\n",
       "      <td>4</td>\n",
       "      <td>-0.4</td>\n",
       "      <td>-0.8</td>\n",
       "      <td>97.0</td>\n",
       "      <td>0.0</td>\n",
       "    </tr>\n",
       "    <tr>\n",
       "      <th>...</th>\n",
       "      <td>...</td>\n",
       "      <td>...</td>\n",
       "      <td>...</td>\n",
       "      <td>...</td>\n",
       "      <td>...</td>\n",
       "      <td>...</td>\n",
       "      <td>...</td>\n",
       "      <td>...</td>\n",
       "      <td>...</td>\n",
       "      <td>...</td>\n",
       "      <td>...</td>\n",
       "      <td>...</td>\n",
       "    </tr>\n",
       "    <tr>\n",
       "      <th>23731</th>\n",
       "      <td>27</td>\n",
       "      <td>30</td>\n",
       "      <td>9</td>\n",
       "      <td>273</td>\n",
       "      <td>2022</td>\n",
       "      <td>4</td>\n",
       "      <td>39</td>\n",
       "      <td>20</td>\n",
       "      <td>12.9</td>\n",
       "      <td>7.3</td>\n",
       "      <td>69.0</td>\n",
       "      <td>0.0</td>\n",
       "    </tr>\n",
       "    <tr>\n",
       "      <th>23732</th>\n",
       "      <td>30</td>\n",
       "      <td>30</td>\n",
       "      <td>9</td>\n",
       "      <td>273</td>\n",
       "      <td>2022</td>\n",
       "      <td>4</td>\n",
       "      <td>39</td>\n",
       "      <td>21</td>\n",
       "      <td>13.1</td>\n",
       "      <td>7.3</td>\n",
       "      <td>68.0</td>\n",
       "      <td>0.0</td>\n",
       "    </tr>\n",
       "    <tr>\n",
       "      <th>23733</th>\n",
       "      <td>37</td>\n",
       "      <td>30</td>\n",
       "      <td>9</td>\n",
       "      <td>273</td>\n",
       "      <td>2022</td>\n",
       "      <td>4</td>\n",
       "      <td>39</td>\n",
       "      <td>22</td>\n",
       "      <td>12.7</td>\n",
       "      <td>7.6</td>\n",
       "      <td>71.0</td>\n",
       "      <td>0.0</td>\n",
       "    </tr>\n",
       "    <tr>\n",
       "      <th>23734</th>\n",
       "      <td>27</td>\n",
       "      <td>30</td>\n",
       "      <td>9</td>\n",
       "      <td>273</td>\n",
       "      <td>2022</td>\n",
       "      <td>4</td>\n",
       "      <td>39</td>\n",
       "      <td>23</td>\n",
       "      <td>12.6</td>\n",
       "      <td>7.5</td>\n",
       "      <td>71.0</td>\n",
       "      <td>0.0</td>\n",
       "    </tr>\n",
       "    <tr>\n",
       "      <th>23735</th>\n",
       "      <td>30</td>\n",
       "      <td>1</td>\n",
       "      <td>10</td>\n",
       "      <td>274</td>\n",
       "      <td>2022</td>\n",
       "      <td>5</td>\n",
       "      <td>39</td>\n",
       "      <td>0</td>\n",
       "      <td>12.7</td>\n",
       "      <td>7.8</td>\n",
       "      <td>72.0</td>\n",
       "      <td>0.0</td>\n",
       "    </tr>\n",
       "  </tbody>\n",
       "</table>\n",
       "<p>23736 rows × 12 columns</p>\n",
       "</div>"
      ],
      "text/plain": [
       "       wert  day  month  dayofyear  year  weekday  week  hour  temp  dwpt  \\\n",
       "0        36    2      1          2  2020        3     1     0   1.0  -0.6   \n",
       "1        31    2      1          2  2020        3     1     7   0.1  -1.2   \n",
       "2        32    2      1          2  2020        3     1     6  -0.3  -1.3   \n",
       "3        27    2      1          2  2020        3     1     5  -0.5  -1.2   \n",
       "4        38    2      1          2  2020        3     1     4  -0.4  -0.8   \n",
       "...     ...  ...    ...        ...   ...      ...   ...   ...   ...   ...   \n",
       "23731    27   30      9        273  2022        4    39    20  12.9   7.3   \n",
       "23732    30   30      9        273  2022        4    39    21  13.1   7.3   \n",
       "23733    37   30      9        273  2022        4    39    22  12.7   7.6   \n",
       "23734    27   30      9        273  2022        4    39    23  12.6   7.5   \n",
       "23735    30    1     10        274  2022        5    39     0  12.7   7.8   \n",
       "\n",
       "       rhum  prcp  \n",
       "0      89.0   0.0  \n",
       "1      91.0   0.0  \n",
       "2      93.0   0.0  \n",
       "3      95.0   0.0  \n",
       "4      97.0   0.0  \n",
       "...     ...   ...  \n",
       "23731  69.0   0.0  \n",
       "23732  68.0   0.0  \n",
       "23733  71.0   0.0  \n",
       "23734  71.0   0.0  \n",
       "23735  72.0   0.0  \n",
       "\n",
       "[23736 rows x 12 columns]"
      ]
     },
     "execution_count": 25,
     "metadata": {},
     "output_type": "execute_result"
    }
   ],
   "source": [
    "df"
   ]
  },
  {
   "cell_type": "code",
   "execution_count": 29,
   "metadata": {},
   "outputs": [
    {
     "data": {
      "text/plain": [
       "0         0\n",
       "1         7\n",
       "2         6\n",
       "3         5\n",
       "4         4\n",
       "         ..\n",
       "23731    20\n",
       "23732    21\n",
       "23733    22\n",
       "23734    23\n",
       "23735     0\n",
       "Name: hour, Length: 23736, dtype: int64"
      ]
     },
     "execution_count": 29,
     "metadata": {},
     "output_type": "execute_result"
    }
   ],
   "source": [
    "hour=df.iloc[0:,7]\n",
    "hour"
   ]
  },
  {
   "cell_type": "code",
   "execution_count": 30,
   "metadata": {},
   "outputs": [],
   "source": [
    "\n",
    "cyDf = df[['day','month','dayofyear','weekday', 'week', 'hour']] # [32,13,367,7,54,52]\n",
    "scDf = df[['wert','year' , 'temp', 'dwpt', 'rhum', 'prcp']]"
   ]
  },
  {
   "cell_type": "code",
   "execution_count": 31,
   "metadata": {},
   "outputs": [],
   "source": [
    "def lstmMultiSplit(df, n_past, n_future):\n",
    "    \"\"\"\n",
    "    Split the data into training x and y sets.\n",
    "    **Note: The 1st column of the df should be the label column and other columns should be features.**\n",
    "    :param df: dataframe\n",
    "    :param n_past: number of past days we want to use to predict the future\n",
    "    :param n_future: number of days we want to look into the future based on the past days\n",
    "    :return: trainX and trainX train sets\n",
    "    \"\"\"\n",
    "    # imports()\n",
    "    trainX = []\n",
    "    trainY = []\n",
    "\n",
    "    # n_future = 1   # Number of days we want to look into the future based on the past days.\n",
    "    # n_past = 5\n",
    "    \n",
    "    for i in range(n_past, len(df) - n_future +1):\n",
    "        trainX.append(df[i - n_past:i, 0:df.shape[1]])\n",
    "        trainY.append(df[i + n_future - 1:i + n_future, 0])\n",
    "    trainX, trainY = np.array(trainX), np.array(trainY)\n",
    "    return trainX, trainY\n",
    "\n",
    "def originalToRecurring(ogUnits, period):\n",
    "    angles = 2 * np.pi * ogUnits / period\n",
    "    rcUnits = np.column_stack((np.sin(angles), np.cos(angles)))\n",
    "    return rcUnits\n",
    "\n",
    "def recurringToOrignal(rcUnits, period):\n",
    "    angles = np.arctan2(rcUnits[:, 0], rcUnits[:, 1])\n",
    "    ogUnits = (period * angles) / (2 * np.pi)\n",
    "    ogUnits = np.round(ogUnits) % period  \n",
    "    return ogUnits"
   ]
  },
  {
   "cell_type": "code",
   "execution_count": 32,
   "metadata": {},
   "outputs": [
    {
     "name": "stderr",
     "output_type": "stream",
     "text": [
      "/home/cluster_home/gavali/workspace/AutoML/amlvenv/lib64/python3.6/site-packages/ipykernel_launcher.py:4: SettingWithCopyWarning:\n",
      "\n",
      "\n",
      "A value is trying to be set on a copy of a slice from a DataFrame.\n",
      "Try using .loc[row_indexer,col_indexer] = value instead\n",
      "\n",
      "See the caveats in the documentation: https://pandas.pydata.org/pandas-docs/stable/user_guide/indexing.html#returning-a-view-versus-a-copy\n",
      "\n",
      "/home/cluster_home/gavali/workspace/AutoML/amlvenv/lib64/python3.6/site-packages/ipykernel_launcher.py:5: SettingWithCopyWarning:\n",
      "\n",
      "\n",
      "A value is trying to be set on a copy of a slice from a DataFrame.\n",
      "Try using .loc[row_indexer,col_indexer] = value instead\n",
      "\n",
      "See the caveats in the documentation: https://pandas.pydata.org/pandas-docs/stable/user_guide/indexing.html#returning-a-view-versus-a-copy\n",
      "\n",
      "/home/cluster_home/gavali/workspace/AutoML/amlvenv/lib64/python3.6/site-packages/ipykernel_launcher.py:10: SettingWithCopyWarning:\n",
      "\n",
      "\n",
      "A value is trying to be set on a copy of a slice from a DataFrame.\n",
      "Try using .loc[row_indexer,col_indexer] = value instead\n",
      "\n",
      "See the caveats in the documentation: https://pandas.pydata.org/pandas-docs/stable/user_guide/indexing.html#returning-a-view-versus-a-copy\n",
      "\n",
      "/home/cluster_home/gavali/workspace/AutoML/amlvenv/lib64/python3.6/site-packages/ipykernel_launcher.py:11: SettingWithCopyWarning:\n",
      "\n",
      "\n",
      "A value is trying to be set on a copy of a slice from a DataFrame.\n",
      "Try using .loc[row_indexer,col_indexer] = value instead\n",
      "\n",
      "See the caveats in the documentation: https://pandas.pydata.org/pandas-docs/stable/user_guide/indexing.html#returning-a-view-versus-a-copy\n",
      "\n",
      "/home/cluster_home/gavali/workspace/AutoML/amlvenv/lib64/python3.6/site-packages/ipykernel_launcher.py:16: SettingWithCopyWarning:\n",
      "\n",
      "\n",
      "A value is trying to be set on a copy of a slice from a DataFrame.\n",
      "Try using .loc[row_indexer,col_indexer] = value instead\n",
      "\n",
      "See the caveats in the documentation: https://pandas.pydata.org/pandas-docs/stable/user_guide/indexing.html#returning-a-view-versus-a-copy\n",
      "\n"
     ]
    }
   ],
   "source": [
    "day = cyDf['day']\n",
    "day.to_numpy()\n",
    "day = originalToRecurring(ogUnits=day,period=32)\n",
    "cyDf['day_sin'] = day[:,0]\n",
    "cyDf['day_cos'] = day[:,1]\n",
    "\n",
    "month = cyDf['month']\n",
    "month.to_numpy()\n",
    "month = originalToRecurring(ogUnits=month,period=13)\n",
    "cyDf['month_sin'] = month[:,0]\n",
    "cyDf['month_cos'] = month[:,1]\n",
    "\n",
    "dayofyear = cyDf['dayofyear']\n",
    "dayofyear.to_numpy()\n",
    "dayofyear = originalToRecurring(ogUnits=dayofyear,period=367)\n",
    "cyDf['dayofyear_sin'] = dayofyear[:,0]\n",
    "cyDf['dayofyear_cos'] = dayofyear[:,1]\n",
    "\n",
    "weekday = cyDf['weekday']\n",
    "weekday.to_numpy()\n",
    "weekday = originalToRecurring(ogUnits=weekday,period=7)\n",
    "cyDf['weekday_sin'] = weekday[:,0]\n",
    "cyDf['weekday_cos'] = weekday[:,1]\n",
    "\n",
    "week = cyDf['week']\n",
    "week.to_numpy()\n",
    "week = originalToRecurring(ogUnits=week,period=54)\n",
    "cyDf['week_sin'] = week[:,0]\n",
    "cyDf['week_cos'] = week[:,1]\n",
    "\n",
    "hour = cyDf['hour']\n",
    "hour.to_numpy()\n",
    "hour = originalToRecurring(ogUnits=hour,period=25)\n",
    "cyDf['hour_sin'] = hour[:,0]\n",
    "cyDf['hour_cos'] = hour[:,1]"
   ]
  },
  {
   "cell_type": "code",
   "execution_count": 33,
   "metadata": {},
   "outputs": [],
   "source": [
    "cyDf.drop(['day', 'month', 'dayofyear', 'weekday', 'week','hour'], axis=1, inplace=True)"
   ]
  },
  {
   "cell_type": "code",
   "execution_count": 34,
   "metadata": {},
   "outputs": [
    {
     "data": {
      "text/plain": [
       "Index(['day_sin', 'day_cos', 'month_sin', 'month_cos', 'dayofyear_sin',\n",
       "       'dayofyear_cos', 'weekday_sin', 'weekday_cos', 'week_sin', 'week_cos',\n",
       "       'hour_sin', 'hour_cos'],\n",
       "      dtype='object')"
      ]
     },
     "execution_count": 34,
     "metadata": {},
     "output_type": "execute_result"
    }
   ],
   "source": [
    "cyDf.columns"
   ]
  },
  {
   "cell_type": "code",
   "execution_count": 35,
   "metadata": {},
   "outputs": [],
   "source": [
    "scaler = StandardScaler()\n",
    "scaler = scaler.fit(scDf)\n",
    "scaledDf = scaler.transform(scDf)"
   ]
  },
  {
   "cell_type": "code",
   "execution_count": 36,
   "metadata": {},
   "outputs": [],
   "source": [
    "cyDf['wert'] = scaledDf[:,0]\n",
    "cyDf['year'] = scaledDf[:,1]\n",
    "cyDf['temp'] = scaledDf[:,2]\n",
    "cyDf['dwpt'] = scaledDf[:,3]\n",
    "cyDf['rhum'] = scaledDf[:,4]\n",
    "cyDf['prcp'] = scaledDf[:,5]\n",
    "mainDf = cyDf[['wert','day_sin', 'day_cos', 'month_sin', 'month_cos', 'dayofyear_sin',\n",
    "        'dayofyear_cos', 'weekday_sin', 'weekday_cos', 'week_sin', 'week_cos',\n",
    "        'hour_sin', 'hour_cos', 'temp', 'dwpt', 'rhum', 'prcp']]"
   ]
  },
  {
   "cell_type": "code",
   "execution_count": null,
   "metadata": {},
   "outputs": [],
   "source": []
  },
  {
   "cell_type": "markdown",
   "metadata": {},
   "source": [
    "In the plot below, we see that the hours 0 and 11.5 obtain very similar values after the sine transformation. So how can we differentiate them?"
   ]
  },
  {
   "cell_type": "code",
   "execution_count": 50,
   "metadata": {},
   "outputs": [
    {
     "data": {
      "text/plain": [
       "<matplotlib.collections.LineCollection at 0x7f8fb7aa7ba8>"
      ]
     },
     "execution_count": 50,
     "metadata": {},
     "output_type": "execute_result"
    },
    {
     "data": {
      "image/png": "[encoded data removed]",
      "text/plain": [
       "<Figure size 432x288 with 1 Axes>"
      ]
     },
     "metadata": {
      "needs_background": "light"
     },
     "output_type": "display_data"
    }
   ],
   "source": [
    "plt.scatter(df[\"hour\"], mainDf[\"hour_sin\"])\n",
    "\n",
    "# Axis labels\n",
    "plt.ylabel('Sine of hour')\n",
    "plt.xlabel('Hour')\n",
    "plt.title('Sine transformation')\n",
    "\n",
    "plt.hlines(y=0, xmin=0, xmax=11.5, color='r', linestyles='dashed')\n",
    "\n",
    "plt.vlines(x=0, ymin=-1, ymax=0, color='g', linestyles='dashed')\n",
    "plt.vlines(x=11.5, ymin=-1, ymax=0, color='g', linestyles='dashed')"
   ]
  },
  {
   "cell_type": "markdown",
   "metadata": {},
   "source": [
    "Adding the cosine function, which is out of phase with the sine function, breaks the symmetry and assigns a unique codification to each hour.\n",
    " The hour 0, after the transformation, takes the values of sine 0 and cosine 1, which makes it different from the hour 11.5, which takes the values of sine 0 and cosine -1. In other words, with the two functions together, we are able to distinguish all observations within our original variable."
   ]
  },
  {
   "cell_type": "code",
   "execution_count": 51,
   "metadata": {},
   "outputs": [
    {
     "data": {
      "text/plain": [
       "<matplotlib.collections.LineCollection at 0x7f8fb7a914e0>"
      ]
     },
     "execution_count": 51,
     "metadata": {},
     "output_type": "execute_result"
    },
    {
     "data": {
      "image/png": "[encoded data removed]",
      "text/plain": [
       "<Figure size 432x288 with 1 Axes>"
      ]
     },
     "metadata": {
      "needs_background": "light"
     },
     "output_type": "display_data"
    }
   ],
   "source": [
    "\n",
    "plt.scatter(df[\"hour\"], mainDf[\"hour_sin\"])\n",
    "plt.scatter(df[\"hour\"], mainDf[\"hour_cos\"])\n",
    "\n",
    "# Axis labels\n",
    "plt.ylabel('Sine and cosine of hour')\n",
    "plt.xlabel('Hour')\n",
    "plt.title('Sine and Cosine transformation')\n",
    "\n",
    "\n",
    "plt.hlines(y=0, xmin=0, xmax=11.5, color='r', linestyles='dashed')\n",
    "\n",
    "plt.vlines(x=0, ymin=-1, ymax=1, color='g', linestyles='dashed')\n",
    "plt.vlines(x=11.5, ymin=-1, ymax=1, color='g', linestyles='dashed')"
   ]
  },
  {
   "cell_type": "markdown",
   "metadata": {},
   "source": [
    "vizualising  the (x, y) circle coordinates generated by the sine and cosine features."
   ]
  },
  {
   "cell_type": "code",
   "execution_count": 52,
   "metadata": {},
   "outputs": [
    {
     "data": {
      "image/png": "[encoded data removed]",
      "text/plain": [
       "<Figure size 504x360 with 2 Axes>"
      ]
     },
     "metadata": {
      "needs_background": "light"
     },
     "output_type": "display_data"
    }
   ],
   "source": [
    "fig, ax = plt.subplots(figsize=(7, 5))\n",
    "sp = ax.scatter(mainDf[\"day_sin\"], mainDf[\"day_cos\"], c=df[\"day\"])\n",
    "ax.set(\n",
    "    xlabel=\"sin(hour)\",\n",
    "    ylabel=\"cos(hour)\",\n",
    ")\n",
    "_ = fig.colorbar(sp)"
   ]
  },
  {
   "cell_type": "code",
   "execution_count": null,
   "metadata": {},
   "outputs": [],
   "source": []
  },
  {
   "cell_type": "code",
   "execution_count": null,
   "metadata": {},
   "outputs": [],
   "source": []
  },
  {
   "cell_type": "code",
   "execution_count": null,
   "metadata": {},
   "outputs": [],
   "source": []
  }
 ],
 "metadata": {
  "kernelspec": {
   "display_name": "amlvenv",
   "language": "python",
   "name": "python3"
  },
  "language_info": {
   "codemirror_mode": {
    "name": "ipython",
    "version": 3
   },
   "file_extension": ".py",
   "mimetype": "text/x-python",
   "name": "python",
   "nbconvert_exporter": "python",
   "pygments_lexer": "ipython3",
   "version": "3.6.8"
  },
  "orig_nbformat": 4
 },
 "nbformat": 4,
 "nbformat_minor": 2
}
