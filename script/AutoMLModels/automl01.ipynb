{
 "cells": [
  {
   "cell_type": "markdown",
   "metadata": {},
   "source": [
    "# Auto-ML 01 with Auto-Sklearn"
   ]
  },
  {
   "cell_type": "code",
   "execution_count": 1,
   "metadata": {},
   "outputs": [
    {
     "name": "stdout",
     "output_type": "stream",
     "text": [
      "functionsAll.py loaded successfully\n"
     ]
    }
   ],
   "source": [
    "%reset -f\n",
    "from pprint import pprint\n",
    "import numpy as np\n",
    "import pandas as pd\n",
    "from matplotlib import pyplot as plt\n",
    "from matplotlib import rcParams\n",
    "import seaborn as sns\n",
    "sns.set()\n",
    "rcParams['figure.figsize'] = 10,10\n",
    "from sklearn.preprocessing import StandardScaler \n",
    "from functionsAll import lstmMultiSplit\n",
    "import sklearn\n",
    "import autosklearn.regression as regression"
   ]
  },
  {
   "cell_type": "code",
   "execution_count": 17,
   "metadata": {},
   "outputs": [
    {
     "name": "stderr",
     "output_type": "stream",
     "text": [
      "/home/cluster_home/yash/workspace/AutoMLRepo/Auto-ML-On-De-Pollution/autoMLVenv/lib64/python3.6/site-packages/ipykernel_launcher.py:8: FutureWarning: Series.dt.weekofyear and Series.dt.week have been deprecated.  Please use Series.dt.isocalendar().week instead.\n",
      "  \n"
     ]
    }
   ],
   "source": [
    "df = pd.read_csv(\"../Data/cleanned/zusammen.csv\", parse_dates=[\"date\"])\n",
    "df['dayofyear'] = df['date'].dt.dayofyear\n",
    "df['month'] = df['date'].dt.month\n",
    "df['year'] = df['date'].dt.year\n",
    "df['weekday'] = df['date'].dt.weekday\n",
    "df['hour'] = df['date'].dt.hour\n",
    "df['day'] = df['date'].dt.day\n",
    "df['week'] = df['date'].dt.week\n",
    "df.drop(columns=['date','rohwert'], inplace= True)\n",
    "# Conclude with 11 features, 1 label.\n",
    "df = df[[ 'wert', 'day', 'month', 'dayofyear', 'year', 'weekday', 'week', 'hour','temp', 'dwpt', 'rhum', 'prcp']]\n",
    "df.dropna(inplace=True)\n",
    "df.reset_index(inplace=True, drop=True)"
   ]
  },
  {
   "cell_type": "code",
   "execution_count": 3,
   "metadata": {},
   "outputs": [
    {
     "data": {
      "text/html": [
       "<div>\n",
       "<style scoped>\n",
       "    .dataframe tbody tr th:only-of-type {\n",
       "        vertical-align: middle;\n",
       "    }\n",
       "\n",
       "    .dataframe tbody tr th {\n",
       "        vertical-align: top;\n",
       "    }\n",
       "\n",
       "    .dataframe thead th {\n",
       "        text-align: right;\n",
       "    }\n",
       "</style>\n",
       "<table border=\"1\" class=\"dataframe\">\n",
       "  <thead>\n",
       "    <tr style=\"text-align: right;\">\n",
       "      <th></th>\n",
       "      <th>wert</th>\n",
       "      <th>day</th>\n",
       "      <th>month</th>\n",
       "      <th>dayofyear</th>\n",
       "      <th>year</th>\n",
       "      <th>weekday</th>\n",
       "      <th>week</th>\n",
       "      <th>hour</th>\n",
       "      <th>temp</th>\n",
       "      <th>dwpt</th>\n",
       "      <th>rhum</th>\n",
       "      <th>prcp</th>\n",
       "    </tr>\n",
       "  </thead>\n",
       "  <tbody>\n",
       "    <tr>\n",
       "      <th>0</th>\n",
       "      <td>36</td>\n",
       "      <td>2</td>\n",
       "      <td>1</td>\n",
       "      <td>2</td>\n",
       "      <td>2020</td>\n",
       "      <td>3</td>\n",
       "      <td>1</td>\n",
       "      <td>0</td>\n",
       "      <td>1.0</td>\n",
       "      <td>-0.6</td>\n",
       "      <td>89.0</td>\n",
       "      <td>0.0</td>\n",
       "    </tr>\n",
       "    <tr>\n",
       "      <th>1</th>\n",
       "      <td>31</td>\n",
       "      <td>2</td>\n",
       "      <td>1</td>\n",
       "      <td>2</td>\n",
       "      <td>2020</td>\n",
       "      <td>3</td>\n",
       "      <td>1</td>\n",
       "      <td>7</td>\n",
       "      <td>0.1</td>\n",
       "      <td>-1.2</td>\n",
       "      <td>91.0</td>\n",
       "      <td>0.0</td>\n",
       "    </tr>\n",
       "    <tr>\n",
       "      <th>2</th>\n",
       "      <td>32</td>\n",
       "      <td>2</td>\n",
       "      <td>1</td>\n",
       "      <td>2</td>\n",
       "      <td>2020</td>\n",
       "      <td>3</td>\n",
       "      <td>1</td>\n",
       "      <td>6</td>\n",
       "      <td>-0.3</td>\n",
       "      <td>-1.3</td>\n",
       "      <td>93.0</td>\n",
       "      <td>0.0</td>\n",
       "    </tr>\n",
       "    <tr>\n",
       "      <th>3</th>\n",
       "      <td>27</td>\n",
       "      <td>2</td>\n",
       "      <td>1</td>\n",
       "      <td>2</td>\n",
       "      <td>2020</td>\n",
       "      <td>3</td>\n",
       "      <td>1</td>\n",
       "      <td>5</td>\n",
       "      <td>-0.5</td>\n",
       "      <td>-1.2</td>\n",
       "      <td>95.0</td>\n",
       "      <td>0.0</td>\n",
       "    </tr>\n",
       "    <tr>\n",
       "      <th>4</th>\n",
       "      <td>38</td>\n",
       "      <td>2</td>\n",
       "      <td>1</td>\n",
       "      <td>2</td>\n",
       "      <td>2020</td>\n",
       "      <td>3</td>\n",
       "      <td>1</td>\n",
       "      <td>4</td>\n",
       "      <td>-0.4</td>\n",
       "      <td>-0.8</td>\n",
       "      <td>97.0</td>\n",
       "      <td>0.0</td>\n",
       "    </tr>\n",
       "  </tbody>\n",
       "</table>\n",
       "</div>"
      ],
      "text/plain": [
       "   wert  day  month  dayofyear  year  weekday  week  hour  temp  dwpt  rhum  \\\n",
       "0    36    2      1          2  2020        3     1     0   1.0  -0.6  89.0   \n",
       "1    31    2      1          2  2020        3     1     7   0.1  -1.2  91.0   \n",
       "2    32    2      1          2  2020        3     1     6  -0.3  -1.3  93.0   \n",
       "3    27    2      1          2  2020        3     1     5  -0.5  -1.2  95.0   \n",
       "4    38    2      1          2  2020        3     1     4  -0.4  -0.8  97.0   \n",
       "\n",
       "   prcp  \n",
       "0   0.0  \n",
       "1   0.0  \n",
       "2   0.0  \n",
       "3   0.0  \n",
       "4   0.0  "
      ]
     },
     "execution_count": 3,
     "metadata": {},
     "output_type": "execute_result"
    }
   ],
   "source": [
    "df.head(5)"
   ]
  },
  {
   "cell_type": "code",
   "execution_count": 18,
   "metadata": {},
   "outputs": [
    {
     "name": "stdout",
     "output_type": "stream",
     "text": [
      "(23000, 11) (736, 11) (23000,) (736,)\n"
     ]
    }
   ],
   "source": [
    "y = df.pop('wert')\n",
    "x = df \n",
    "trainX = x.query('index < 23000')\n",
    "testX = x.query('index >= 23000')\n",
    "trainY = y[:23000]\n",
    "testY = y[23000:]\n",
    "print(trainX.shape, testX.shape, trainY.shape, testY.shape)"
   ]
  },
  {
   "cell_type": "code",
   "execution_count": 5,
   "metadata": {},
   "outputs": [
    {
     "data": {
      "text/plain": [
       "AutoSklearnRegressor(per_run_time_limit=60, time_left_for_this_task=600)"
      ]
     },
     "execution_count": 5,
     "metadata": {},
     "output_type": "execute_result"
    }
   ],
   "source": [
    "autoML = regression.AutoSklearnRegressor(time_left_for_this_task=600,per_run_time_limit=60)\n",
    "autoML.fit(trainX, trainY)"
   ]
  },
  {
   "cell_type": "code",
   "execution_count": 10,
   "metadata": {},
   "outputs": [],
   "source": [
    "import pickle\n",
    "with open('../models/aml/automl01.pkl','wb') as f:\n",
    "    pickle.dump(autoML,f)"
   ]
  },
  {
   "cell_type": "code",
   "execution_count": 11,
   "metadata": {},
   "outputs": [],
   "source": [
    "predict = autoML.predict(testX)"
   ]
  },
  {
   "cell_type": "markdown",
   "metadata": {},
   "source": [
    "## Evaluate the model"
   ]
  },
  {
   "cell_type": "code",
   "execution_count": 19,
   "metadata": {},
   "outputs": [],
   "source": [
    "from sklearn.metrics import mean_absolute_error as MAE, mean_squared_error as RMSE, mean_absolute_percentage_error as MAPE, r2_score as R2\n",
    "yPred = predict\n",
    "yTrue = testY"
   ]
  },
  {
   "cell_type": "code",
   "execution_count": 20,
   "metadata": {},
   "outputs": [
    {
     "data": {
      "text/plain": [
       "((736,), (736,))"
      ]
     },
     "execution_count": 20,
     "metadata": {},
     "output_type": "execute_result"
    }
   ],
   "source": [
    "yPred.shape, yTrue.shape"
   ]
  },
  {
   "cell_type": "code",
   "execution_count": 22,
   "metadata": {},
   "outputs": [
    {
     "name": "stdout",
     "output_type": "stream",
     "text": [
      "The MAE (Mean Absolute Error) of model Auto-SK-Learn Auto-ML is : 4.982609403360149\n",
      "The RMSE (Root Mean Square Error) of model Auto-SK-Learn Auto-ML is : 43.42150107843412\n",
      "The MAPE (Mean Absolute Percentage Error) of model Auto-SK-Learn Auto-ML is : 0.31596617632039986\n",
      "The R2 (R-Square) of model Auto-SK-Learn Auto-ML is : -0.024439125434468245\n"
     ]
    }
   ],
   "source": [
    "print(f\"The MAE (Mean Absolute Error) of model Auto-SK-Learn Auto-ML is : {MAE(yTrue, yPred)}\") \n",
    "print(f\"The RMSE (Root Mean Square Error) of model Auto-SK-Learn Auto-ML is : {RMSE(yTrue, yPred)}\")\n",
    "print(f\"The MAPE (Mean Absolute Percentage Error) of model Auto-SK-Learn Auto-ML is : {MAPE(yTrue, yPred)}\")\n",
    "print(f\"The R2 (R-Square) of model Auto-SK-Learn Auto-ML is : {R2(yTrue, yPred)}\")"
   ]
  },
  {
   "cell_type": "code",
   "execution_count": 48,
   "metadata": {},
   "outputs": [
    {
     "name": "stdout",
     "output_type": "stream",
     "text": [
      "('[(1.000000, '\n",
      " \"SimpleRegressionPipeline({'data_preprocessing:categorical_transformer:categorical_encoding:__choice__': \"\n",
      " \"'no_encoding', \"\n",
      " \"'data_preprocessing:categorical_transformer:category_coalescence:__choice__': \"\n",
      " \"'minority_coalescer', \"\n",
      " \"'data_preprocessing:numerical_transformer:imputation:strategy': 'mean', \"\n",
      " \"'data_preprocessing:numerical_transformer:rescaling:__choice__': \"\n",
      " \"'robust_scaler', 'feature_preprocessor:__choice__': 'no_preprocessing', \"\n",
      " \"'regressor:__choice__': 'k_nearest_neighbors', \"\n",
      " \"'data_preprocessing:categorical_transformer:category_coalescence:minority_coalescer:minimum_fraction': \"\n",
      " '0.00397868572473159, '\n",
      " \"'data_preprocessing:numerical_transformer:rescaling:robust_scaler:q_max': \"\n",
      " '0.7840854273341944, '\n",
      " \"'data_preprocessing:numerical_transformer:rescaling:robust_scaler:q_min': \"\n",
      " \"0.11376189722146844, 'regressor:k_nearest_neighbors:n_neighbors': 20, \"\n",
      " \"'regressor:k_nearest_neighbors:p': 2, \"\n",
      " \"'regressor:k_nearest_neighbors:weights': 'distance'},\\n\"\n",
      " 'dataset_properties={\\n'\n",
      " \"  'task': 4,\\n\"\n",
      " \"  'sparse': False,\\n\"\n",
      " \"  'multioutput': False,\\n\"\n",
      " \"  'target_type': 'regression',\\n\"\n",
      " \"  'signed': False})),\\n\"\n",
      " ']')\n"
     ]
    }
   ],
   "source": [
    "from pprint import pprint\n",
    "pprint(autoML.show_models())"
   ]
  },
  {
   "cell_type": "code",
   "execution_count": null,
   "metadata": {},
   "outputs": [],
   "source": []
  }
 ],
 "metadata": {
  "kernelspec": {
   "display_name": "autoMLVenv",
   "language": "python",
   "name": "python3"
  },
  "language_info": {
   "codemirror_mode": {
    "name": "ipython",
    "version": 3
   },
   "file_extension": ".py",
   "mimetype": "text/x-python",
   "name": "python",
   "nbconvert_exporter": "python",
   "pygments_lexer": "ipython3",
   "version": "3.6.8"
  },
  "orig_nbformat": 4
 },
 "nbformat": 4,
 "nbformat_minor": 2
}
