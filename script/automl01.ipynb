{
 "cells": [
  {
   "cell_type": "code",
   "execution_count": 110,
   "metadata": {},
   "outputs": [],
   "source": [
    "%reset -f\n",
    "from pprint import pprint\n",
    "import numpy as np\n",
    "import pandas as pd\n",
    "from matplotlib import pyplot as plt\n",
    "from matplotlib import rcParams\n",
    "import seaborn as sns\n",
    "sns.set()\n",
    "rcParams['figure.figsize'] = 10,10\n",
    "from sklearn.preprocessing import StandardScaler \n",
    "from functionsAll import lstmMultiSplit\n",
    "import sklearn\n",
    "import autosklearn.regression as regression"
   ]
  },
  {
   "cell_type": "code",
   "execution_count": 111,
   "metadata": {},
   "outputs": [
    {
     "name": "stderr",
     "output_type": "stream",
     "text": [
      "/home/cluster_home/yash/workspace/AutoMLRepo/Auto-ML-On-De-Pollution/autoMLVenv/lib64/python3.6/site-packages/ipykernel_launcher.py:8: FutureWarning: Series.dt.weekofyear and Series.dt.week have been deprecated.  Please use Series.dt.isocalendar().week instead.\n",
      "  \n"
     ]
    }
   ],
   "source": [
    "df = pd.read_csv(\"../Data/cleanned/zusammen.csv\", parse_dates=[\"date\"])\n",
    "df['dayofyear'] = df['date'].dt.dayofyear\n",
    "df['month'] = df['date'].dt.month\n",
    "df['year'] = df['date'].dt.year\n",
    "df['weekday'] = df['date'].dt.weekday\n",
    "df['hour'] = df['date'].dt.hour\n",
    "df['day'] = df['date'].dt.day\n",
    "df['week'] = df['date'].dt.week\n",
    "df.drop(columns=['date','rohwert'], inplace= True)\n",
    "# Conclude with 11 features, 1 label.\n",
    "df = df[[ 'wert', 'day', 'month', 'dayofyear', 'year', 'weekday', 'week', 'hour','temp', 'dwpt', 'rhum', 'prcp']]\n",
    "df.dropna(inplace=True)\n",
    "df.reset_index(inplace=True, drop=True)"
   ]
  },
  {
   "cell_type": "code",
   "execution_count": 112,
   "metadata": {},
   "outputs": [
    {
     "name": "stdout",
     "output_type": "stream",
     "text": [
      "(23000, 11) (736, 11) (23000,) (736,)\n"
     ]
    }
   ],
   "source": [
    "y = df.pop('wert')\n",
    "x = df \n",
    "trainX = x.query('index < 23000')\n",
    "testX = x.query('index >= 23000')\n",
    "trainY = y[:23000]\n",
    "testY = y[23000:]\n",
    "print(trainX.shape, testX.shape, trainY.shape, testY.shape)"
   ]
  },
  {
   "cell_type": "markdown",
   "metadata": {},
   "source": [
    "## Auto-Sklearn"
   ]
  },
  {
   "cell_type": "code",
   "execution_count": 113,
   "metadata": {},
   "outputs": [
    {
     "data": {
      "text/plain": [
       "AutoSklearnRegressor(per_run_time_limit=60, time_left_for_this_task=600)"
      ]
     },
     "execution_count": 113,
     "metadata": {},
     "output_type": "execute_result"
    }
   ],
   "source": [
    "autoML = regression.AutoSklearnRegressor(time_left_for_this_task=600,per_run_time_limit=60)\n",
    "autoML.fit(trainX, trainY)"
   ]
  },
  {
   "cell_type": "code",
   "execution_count": 114,
   "metadata": {},
   "outputs": [],
   "source": [
    "predict = autoML.predict(testX)"
   ]
  },
  {
   "cell_type": "code",
   "execution_count": 115,
   "metadata": {},
   "outputs": [],
   "source": [
    "from sklearn.metrics import mean_absolute_error"
   ]
  },
  {
   "cell_type": "code",
   "execution_count": 116,
   "metadata": {},
   "outputs": [
    {
     "data": {
      "text/plain": [
       "5.630660290303438"
      ]
     },
     "execution_count": 116,
     "metadata": {},
     "output_type": "execute_result"
    }
   ],
   "source": [
    "mean_absolute_error(testY, predict)"
   ]
  },
  {
   "cell_type": "code",
   "execution_count": 69,
   "metadata": {},
   "outputs": [
    {
     "data": {
      "text/plain": [
       "((8832,), (736,))"
      ]
     },
     "execution_count": 69,
     "metadata": {},
     "output_type": "execute_result"
    }
   ],
   "source": [
    "prediction = np.repeat(predict, 12, axis=-1)\n",
    "prediction.shape, predict.shape\n",
    "# realPrediction = scaler.inverse_transform(prediction)\n",
    "# realPrediction = realPrediction[:,0]\n",
    "# yt = df.query('index >= 23000')\n",
    "# yt = yt['wert']\n",
    "# yt.reset_index(drop=True, inplace=True)"
   ]
  },
  {
   "cell_type": "code",
   "execution_count": 48,
   "metadata": {},
   "outputs": [
    {
     "name": "stdout",
     "output_type": "stream",
     "text": [
      "('[(1.000000, '\n",
      " \"SimpleRegressionPipeline({'data_preprocessing:categorical_transformer:categorical_encoding:__choice__': \"\n",
      " \"'no_encoding', \"\n",
      " \"'data_preprocessing:categorical_transformer:category_coalescence:__choice__': \"\n",
      " \"'minority_coalescer', \"\n",
      " \"'data_preprocessing:numerical_transformer:imputation:strategy': 'mean', \"\n",
      " \"'data_preprocessing:numerical_transformer:rescaling:__choice__': \"\n",
      " \"'robust_scaler', 'feature_preprocessor:__choice__': 'no_preprocessing', \"\n",
      " \"'regressor:__choice__': 'k_nearest_neighbors', \"\n",
      " \"'data_preprocessing:categorical_transformer:category_coalescence:minority_coalescer:minimum_fraction': \"\n",
      " '0.00397868572473159, '\n",
      " \"'data_preprocessing:numerical_transformer:rescaling:robust_scaler:q_max': \"\n",
      " '0.7840854273341944, '\n",
      " \"'data_preprocessing:numerical_transformer:rescaling:robust_scaler:q_min': \"\n",
      " \"0.11376189722146844, 'regressor:k_nearest_neighbors:n_neighbors': 20, \"\n",
      " \"'regressor:k_nearest_neighbors:p': 2, \"\n",
      " \"'regressor:k_nearest_neighbors:weights': 'distance'},\\n\"\n",
      " 'dataset_properties={\\n'\n",
      " \"  'task': 4,\\n\"\n",
      " \"  'sparse': False,\\n\"\n",
      " \"  'multioutput': False,\\n\"\n",
      " \"  'target_type': 'regression',\\n\"\n",
      " \"  'signed': False})),\\n\"\n",
      " ']')\n"
     ]
    }
   ],
   "source": [
    "from pprint import pprint\n",
    "pprint(autoML.show_models())"
   ]
  },
  {
   "cell_type": "code",
   "execution_count": null,
   "metadata": {},
   "outputs": [],
   "source": []
  }
 ],
 "metadata": {
  "kernelspec": {
   "display_name": "autoMLVenv",
   "language": "python",
   "name": "python3"
  },
  "language_info": {
   "codemirror_mode": {
    "name": "ipython",
    "version": 3
   },
   "file_extension": ".py",
   "mimetype": "text/x-python",
   "name": "python",
   "nbconvert_exporter": "python",
   "pygments_lexer": "ipython3",
   "version": "3.6.8"
  },
  "orig_nbformat": 4
 },
 "nbformat": 4,
 "nbformat_minor": 2
}
